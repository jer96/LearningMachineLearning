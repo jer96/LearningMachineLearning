{
 "cells": [
  {
   "cell_type": "markdown",
   "metadata": {},
   "source": [
    "# R squared\n",
    "\n",
    "$SS_{residual}$ = $\\sum{(y_i - y_{pred})^2}$\n",
    "\n",
    "$SS_{total}$ = $\\sum{(y_i - y_{avg})^2}$\n",
    "\n",
    "$R^2 = 1 - \\frac{SS_{residual}}{SS_{total}}$"
   ]
  },
  {
   "cell_type": "markdown",
   "metadata": {},
   "source": [
    "# Adjusted R squared\n",
    "\n",
    "by adding more variables your $R^2$ will never decrease\n",
    "\n",
    "$R^2 = 1 - \\frac{SS_{residual}}{SS_{total}}$\n",
    "\n",
    "adjusted $R^2 = 1 -  (1 - R^2) * \\frac{n - 1}{n - p - 1}$\n",
    "\n",
    "- penalizes for increasing number of regressors\n",
    "\n",
    "p = number of regressors\n",
    "\n",
    "n = sample size "
   ]
  },
  {
   "cell_type": "code",
   "execution_count": null,
   "metadata": {},
   "outputs": [],
   "source": []
  }
 ],
 "metadata": {
  "kernelspec": {
   "display_name": "Python 3",
   "language": "python",
   "name": "python3"
  },
  "language_info": {
   "codemirror_mode": {
    "name": "ipython",
    "version": 3
   },
   "file_extension": ".py",
   "mimetype": "text/x-python",
   "name": "python",
   "nbconvert_exporter": "python",
   "pygments_lexer": "ipython3",
   "version": "3.6.6"
  }
 },
 "nbformat": 4,
 "nbformat_minor": 2
}
