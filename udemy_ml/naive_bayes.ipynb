{
 "cells": [
  {
   "cell_type": "code",
   "execution_count": 2,
   "metadata": {},
   "outputs": [],
   "source": [
    "import numpy as np \n",
    "import pandas as pd\n",
    "import matplotlib.pyplot as plt\n",
    "%matplotlib inline"
   ]
  },
  {
   "cell_type": "markdown",
   "metadata": {},
   "source": [
    "# bayes thm\n",
    "\n",
    "$P(A|B) = \\frac{P(B | A) * P(A)}{P(B)}$\n",
    "\n",
    "ex. \n",
    "\n",
    "machine 1 production: 30 wrenches/hr\n",
    "machine 2 production: 20 wrenches/hr\n",
    "\n",
    "out of all parts 1% are defective\n",
    "\n",
    "machine 1 we see 50% out of all are defective \n",
    "machine 2 we see 50% out of all are defective\n",
    "\n",
    "what is the prob that machine 2 makes a defective part? "
   ]
  },
  {
   "cell_type": "markdown",
   "metadata": {},
   "source": [
    "$P(m1) = 30/50 = .6$ - uneeded\n",
    "\n",
    "$P(m2) = 20/50 = .4$\n",
    "\n",
    "$P(defect) = .01$\n",
    "\n",
    "$P(m1 | defect) = .5$ - uneeded\n",
    "\n",
    "$P(m2 | defect) = .5$\n",
    "\n",
    "\n",
    "$P(defect | m2) = ?$\n",
    "\n",
    "$P(defect | m2) = \\frac{P(m2 | defect) * P(defect)}{P(m2)}$\n",
    "\n",
    "\n",
    "$P(defect | m2) = \\frac{.5 * .01}{.4} = .0125$\n"
   ]
  },
  {
   "cell_type": "markdown",
   "metadata": {},
   "source": [
    "# naive bayes intuition\n",
    "\n",
    "bayes thm: $P(A|B) = \\frac{P(B | A) * P(A)}{P(B)}$\n",
    "\n",
    "ex.\n",
    "\n",
    "salary and age as features -> predicting whether or not someone walks to work\n",
    "\n",
    "- step 1: $P(walks|X) = \\frac{P(X | walks) * P(walks)}{P(X)}$\n",
    "\n",
    "- prior prob = P(A) or P(walks)\n",
    "\n",
    "- marginal likelihood (posterior) = P(B) or P(X)\n",
    "\n",
    "- likelihood = P(B | A) or P(X | walks)\n",
    "\n",
    "- posterior prob = P(A | B) or P(walks | x)\n",
    "\n",
    "\n",
    "step 2: $P(drives|X) = \\frac{P(X | drives) * P(drives)}{P(X)}$\n",
    "\n",
    "- prior prob = P(A) or P(drives)\n",
    "\n",
    "- marginal likelihood (posterior) = P(B) or P(X)\n",
    "\n",
    "- likelihood = P(B | A) or P(X | drives)\n",
    "\n",
    "- posterior prob = P(A | B) or P(drives | x)\n",
    "\n",
    "\n",
    "step 3: compare: P(walks | X) vs. P(drives | X)\n",
    "\n",
    "**marginal likelihood is calculated according to radius around new data point - within this radius the number of similiar observations are recorded**\n",
    "- $P(X) = \\frac{similiar\\ observations}{total\\ observations}$\n",
    "\n",
    "\n",
    "**likelihood is calculated according to a radius around data point again - but only takes the number of observations which align to category in the second param**\n",
    "- $\\frac{number\\ of\\ categories\\ in\\ radius}{total\\ of\\ category}$\n",
    "- - $P(X | walks) = \\frac{similiar\\ observations\\ in\\ category}{total\\ observations\\ in\\ category}$\n",
    "\n",
    "\n",
    "## why is it called naive\n",
    "- **independence assumption**\n",
    "- do not need to calculate P(X) because it is the same in both calculations if you are using them in comparison!\n",
    "    - but if you are looking for raw probs, you need to use it\n",
    "    - may need it for comparing to other models\n",
    "\n",
    "## what happens with more than 2 classes\n",
    "- just need to take maximum"
   ]
  },
  {
   "cell_type": "code",
   "execution_count": 6,
   "metadata": {},
   "outputs": [],
   "source": [
    "df = pd.read_csv('Social_Network_Ads.csv')"
   ]
  },
  {
   "cell_type": "code",
   "execution_count": 7,
   "metadata": {},
   "outputs": [],
   "source": [
    "X = df.iloc[:, [2,3]].values\n",
    "y = df.iloc[:, 4].values"
   ]
  },
  {
   "cell_type": "code",
   "execution_count": 8,
   "metadata": {},
   "outputs": [
    {
     "name": "stderr",
     "output_type": "stream",
     "text": [
      "/Library/Frameworks/Python.framework/Versions/3.6/lib/python3.6/site-packages/sklearn/cross_validation.py:41: DeprecationWarning: This module was deprecated in version 0.18 in favor of the model_selection module into which all the refactored classes and functions are moved. Also note that the interface of the new CV iterators are different from that of this module. This module will be removed in 0.20.\n",
      "  \"This module will be removed in 0.20.\", DeprecationWarning)\n",
      "/Library/Frameworks/Python.framework/Versions/3.6/lib/python3.6/site-packages/sklearn/utils/validation.py:475: DataConversionWarning: Data with input dtype int64 was converted to float64 by StandardScaler.\n",
      "  warnings.warn(msg, DataConversionWarning)\n"
     ]
    }
   ],
   "source": [
    "from sklearn.cross_validation import train_test_split\n",
    "X_train, X_test, y_train, y_test = train_test_split(X, y, test_size=.25, random_state=0)\n",
    "\n",
    "from sklearn.preprocessing import StandardScaler\n",
    "scaler_x = StandardScaler()\n",
    "X_train = scaler_x.fit_transform(X_train)\n",
    "X_test = scaler_x.transform(X_test)"
   ]
  },
  {
   "cell_type": "markdown",
   "metadata": {},
   "source": [
    "input classifier below"
   ]
  },
  {
   "cell_type": "code",
   "execution_count": 14,
   "metadata": {},
   "outputs": [
    {
     "data": {
      "text/plain": [
       "GaussianNB(priors=None)"
      ]
     },
     "execution_count": 14,
     "metadata": {},
     "output_type": "execute_result"
    }
   ],
   "source": [
    "from sklearn.naive_bayes import GaussianNB\n",
    "clf = GaussianNB()\n",
    "clf.fit(X_train, y_train)"
   ]
  },
  {
   "cell_type": "code",
   "execution_count": 15,
   "metadata": {},
   "outputs": [],
   "source": [
    "y_pred = clf.predict(X_test)\n",
    "from sklearn.metrics import confusion_matrix\n",
    "cm = confusion_matrix(y_test, y_pred)"
   ]
  },
  {
   "cell_type": "code",
   "execution_count": 16,
   "metadata": {},
   "outputs": [
    {
     "data": {
      "text/plain": [
       "array([[65,  3],\n",
       "       [ 7, 25]])"
      ]
     },
     "execution_count": 16,
     "metadata": {},
     "output_type": "execute_result"
    }
   ],
   "source": [
    "cm"
   ]
  },
  {
   "cell_type": "code",
   "execution_count": 17,
   "metadata": {},
   "outputs": [
    {
     "data": {
      "image/png": "[encoded data removed]",
      "text/plain": [
       "<Figure size 432x288 with 1 Axes>"
      ]
     },
     "metadata": {
      "needs_background": "light"
     },
     "output_type": "display_data"
    }
   ],
   "source": [
    "# Visualising the Training set results\n",
    "from matplotlib.colors import ListedColormap\n",
    "X_set, y_set = X_train, y_train\n",
    "X1, X2 = np.meshgrid(np.arange(start = X_set[:, 0].min() - 1, stop = X_set[:, 0].max() + 1, step = 0.01),\n",
    "                     np.arange(start = X_set[:, 1].min() - 1, stop = X_set[:, 1].max() + 1, step = 0.01))\n",
    "plt.contourf(X1, X2, clf.predict(np.array([X1.ravel(), X2.ravel()]).T).reshape(X1.shape),\n",
    "             alpha = 0.75, cmap = ListedColormap(('red', 'green')))\n",
    "plt.xlim(X1.min(), X1.max())\n",
    "plt.ylim(X2.min(), X2.max())\n",
    "for i, j in enumerate(np.unique(y_set)):\n",
    "    plt.scatter(X_set[y_set == j, 0], X_set[y_set == j, 1],\n",
    "                c = ListedColormap(('red', 'green'))(i), label = j)\n",
    "plt.title('Classifier Naive Bayes(Training set)')\n",
    "plt.xlabel('Age')\n",
    "plt.ylabel('Estimated Salary')\n",
    "plt.legend()\n",
    "plt.show()"
   ]
  },
  {
   "cell_type": "code",
   "execution_count": 18,
   "metadata": {},
   "outputs": [
    {
     "data": {
      "image/png": "[encoded data removed]",
      "text/plain": [
       "<Figure size 432x288 with 1 Axes>"
      ]
     },
     "metadata": {
      "needs_background": "light"
     },
     "output_type": "display_data"
    }
   ],
   "source": [
    "# Visualising the Test set results\n",
    "from matplotlib.colors import ListedColormap\n",
    "X_set, y_set = X_test, y_test\n",
    "X1, X2 = np.meshgrid(np.arange(start = X_set[:, 0].min() - 1, stop = X_set[:, 0].max() + 1, step = 0.01),\n",
    "                     np.arange(start = X_set[:, 1].min() - 1, stop = X_set[:, 1].max() + 1, step = 0.01))\n",
    "plt.contourf(X1, X2, clf.predict(np.array([X1.ravel(), X2.ravel()]).T).reshape(X1.shape),\n",
    "             alpha = 0.75, cmap = ListedColormap(('red', 'green')))\n",
    "plt.xlim(X1.min(), X1.max())\n",
    "plt.ylim(X2.min(), X2.max())\n",
    "for i, j in enumerate(np.unique(y_set)):\n",
    "    plt.scatter(X_set[y_set == j, 0], X_set[y_set == j, 1],\n",
    "                c = ListedColormap(('red', 'green'))(i), label = j)\n",
    "plt.title('Classifier  Naive Bayes (Test set)')\n",
    "plt.xlabel('Age')\n",
    "plt.ylabel('Estimated Salary')\n",
    "plt.legend()\n",
    "plt.show()"
   ]
  },
  {
   "cell_type": "code",
   "execution_count": null,
   "metadata": {},
   "outputs": [],
   "source": []
  }
 ],
 "metadata": {
  "kernelspec": {
   "display_name": "Python 3",
   "language": "python",
   "name": "python3"
  },
  "language_info": {
   "codemirror_mode": {
    "name": "ipython",
    "version": 3
   },
   "file_extension": ".py",
   "mimetype": "text/x-python",
   "name": "python",
   "nbconvert_exporter": "python",
   "pygments_lexer": "ipython3",
   "version": "3.6.6"
  }
 },
 "nbformat": 4,
 "nbformat_minor": 2
}
