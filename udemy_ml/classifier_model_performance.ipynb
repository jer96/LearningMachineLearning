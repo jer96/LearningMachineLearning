{
 "cells": [
  {
   "cell_type": "markdown",
   "metadata": {},
   "source": [
    "# false positives and negatives\n",
    "\n",
    "- false positive (type 1): predicted positive when the actual category is negative. (basically over predicting) \n",
    "\n",
    "- false negative (type 2): predicted negative when actual category was positive. (pretty bad -> predict no hurricane but actual hurricane happened)\n",
    "\n",
    "\n",
    "# confusion matrix\n",
    "false positive: top right\n",
    "\n",
    "false negative: bottom left\n",
    "\n",
    "accuracy rate = correct / total \n",
    "\n",
    "error rate = wrong / total\n",
    "\n",
    "\n",
    "\n",
    "# accuracy paradox\n",
    "negative: 97000\n",
    "\n",
    "positive: 100\n",
    "\n",
    "false negative: 50\n",
    "\n",
    "false positive: 150\n",
    "\n",
    "\n",
    "accuracy rate = 9800 / 1000 = 98%\n",
    "\n",
    "error rate = 200 / 1000 = 2%\n",
    "\n",
    "now let's just make every data point classify to being negative\n",
    "\n",
    "negative = 9850\n",
    "\n",
    "false negative = 150\n",
    "\n",
    "accuracy rate = 9850 / 100= 98.5%\n",
    "\n",
    "\n",
    "# cap (cummulative accuracy  profile) curve\n",
    "\n",
    "- visualize model performance\n",
    "- able to view how affective model is and compare models\n",
    "\n",
    "![cap](cap.png)\n",
    "\n",
    "- how to access cap curve -> area under perfect model / area under your model (can be hard to calc)\n",
    "- otherwise take midpoint of data, look at y value\n",
    "    - % < 60 really bad\n",
    "    - 60 < % < 70 poor\n",
    "    - 70 < % < 80 good \n",
    "    - 80 < % < 90 very good\n",
    "    - 90 < % < 100 too good (most likely overfit)\n",
    "- forward looking variables -> variables that solely indicate outcome\n",
    "- overfitting model -> so heavily fit to dataset it relies solely on anomolies in the data set to make predictions"
   ]
  },
  {
   "cell_type": "code",
   "execution_count": null,
   "metadata": {},
   "outputs": [],
   "source": []
  }
 ],
 "metadata": {
  "kernelspec": {
   "display_name": "Python 3",
   "language": "python",
   "name": "python3"
  },
  "language_info": {
   "codemirror_mode": {
    "name": "ipython",
    "version": 3
   },
   "file_extension": ".py",
   "mimetype": "text/x-python",
   "name": "python",
   "nbconvert_exporter": "python",
   "pygments_lexer": "ipython3",
   "version": "3.6.6"
  }
 },
 "nbformat": 4,
 "nbformat_minor": 2
}
